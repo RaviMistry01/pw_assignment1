{
 "cells": [
  {
   "cell_type": "markdown",
   "id": "19993bcd-9687-4c16-9aec-f920795ae612",
   "metadata": {},
   "source": [
    "Q1. What is Abstraction in OOps? Explain with an example."
   ]
  },
  {
   "cell_type": "markdown",
   "id": "863c8655-145c-4860-8632-90de0de0b8ec",
   "metadata": {},
   "source": [
    "--> Abstraction is the process of hiding implementation details and exposing only the essential features of an object or system to the user. It allows the user to interact with the system at a higher level of abstraction, without worrying about the low-level details.\n",
    "\n",
    "For example, consider a car. As a driver, you don't need to know how the engine works, how the fuel injection system operates, or how the transmission shifts gears. All you need to know is how to start the car, how to steer it, how to accelerate and brake, and how to use the lights and indicators. These are the essential features that are exposed to you, while the low-level details are hidden from view.\n",
    "\n",
    "In object-oriented programming, abstraction is achieved through the use of interfaces, abstract classes, and other mechanisms that allow you to define the essential features of a class or system, without specifying the implementation details. This makes the code more modular, reusable, and maintainable, as changes to the implementation can be made without affecting the users of the system."
   ]
  },
  {
   "cell_type": "markdown",
   "id": "744b4c8a-3dfb-44cf-a870-e870c3a7da95",
   "metadata": {},
   "source": [
    "Q2. Differentiate between Abstraction and Encapsulation. Explain with an example."
   ]
  },
  {
   "cell_type": "markdown",
   "id": "64d53562-416f-482a-ad3b-0872ab56bc21",
   "metadata": {},
   "source": [
    "--> Abstraction and encapsulation are two important concepts in object-oriented programming, but they serve different purposes.\n",
    "\n",
    "Abstraction is the process of hiding implementation details and exposing only the essential features of an object or system to the user. It allows the user to interact with the system at a higher level of abstraction, without worrying about the low-level details. For example, a car driver only needs to know how to drive the car, without knowing the details of how the engine or transmission work.\n",
    "\n",
    "Encapsulation, on the other hand, is the process of hiding internal data and methods of an object from the outside world, and allowing access to them only through a well-defined interface. It ensures that the object's state is not modified directly by external code, but only through the object's methods. For example, a bank account object may have a method to withdraw money, but the balance of the account is not directly accessible from outside the object.\n",
    "\n",
    "To illustrate the difference between abstraction and encapsulation, consider the example of a smartphone. The user of the smartphone interacts with its high-level features, such as making calls, sending messages, and using apps. These features are abstracted from the internal workings of the smartphone, such as its operating system, hardware components, and software libraries. This abstraction allows the user to interact with the phone at a higher level of abstraction.\n",
    "\n",
    "Encapsulation, on the other hand, ensures that the internal workings of the smartphone are hidden from the outside world. For example, the user cannot directly access the phone's memory or modify its hardware components. Instead, the user interacts with the phone through a well-defined interface, such as a touch screen or a voice command system. This interface provides encapsulation, which protects the phone's internal state and ensures that it is accessed only through authorized methods."
   ]
  },
  {
   "cell_type": "markdown",
   "id": "c7e919bd-7bf0-4c0d-b487-637a99598eed",
   "metadata": {},
   "source": [
    "Q3. What is abc module in python? Why is it used?"
   ]
  },
  {
   "cell_type": "markdown",
   "id": "ba0dc556-be51-4ea6-8ad0-cb8c5662a542",
   "metadata": {},
   "source": [
    "--> The abc module in Python stands for Abstract Base Classes. It provides a way to define abstract classes and interfaces in Python. An abstract class is a class that cannot be instantiated and is used as a base class for other classes. Abstract classes can define methods that subclasses are required to implement, as well as methods that can be used by all subclasses.\n",
    "\n",
    "The abc module is used to enforce an interface in Python, which is a collection of methods that a class is required to implement. This is useful when you want to define a common interface that multiple classes must adhere to. By defining an interface using abstract base classes, you can ensure that all classes that implement that interface have the required methods.\n",
    "\n",
    "The abc module is also used to create abstract methods, which are methods that have no implementation in the abstract class, but must be implemented by subclasses. This is useful when you want to define a method that must be implemented by all subclasses, but the implementation may be different for each subclass.\n",
    "\n",
    "In summary, the abc module is used to define abstract classes, interfaces, and abstract methods in Python, which helps to enforce a common structure and behavior in a program, while allowing for flexibility in implementation."
   ]
  },
  {
   "cell_type": "markdown",
   "id": "a9695a9d-7919-48d6-b6ea-0a1c31ef2626",
   "metadata": {},
   "source": [
    "Q4. How can we achieve data abstraction?"
   ]
  },
  {
   "cell_type": "markdown",
   "id": "cf438e4f-f295-418e-9ed8-fca04146cc8f",
   "metadata": {},
   "source": [
    "-->We can achieve data abstraction in several ways, depending on the programming language and the level of abstraction required. In general, data abstraction can be achieved through the use of interfaces, abstract classes, and access modifiers.\n",
    "\n",
    "    Interfaces: An interface is a collection of method signatures that a class must implement. By defining an interface, you can define a set of methods that all classes that implement that interface must have. This allows you to abstract away the implementation details of a class and focus on its behavior.\n",
    "\n",
    "    Abstract Classes: An abstract class is a class that cannot be instantiated and is used as a base class for other classes. It may contain both abstract and non-abstract methods. An abstract method is a method that has no implementation in the abstract class, but must be implemented by its subclasses. This allows you to define a common behavior that all subclasses must have, while allowing for flexibility in implementation.\n",
    "\n",
    "    Access Modifiers: Access modifiers allow you to control the visibility of data members and methods in a class. By using access modifiers such as private, protected, and public, you can hide the implementation details of a class from outside code. This allows you to abstract away the details of how a class works and focus on its public interface.\n",
    "\n",
    "In summary, we can achieve data abstraction by defining interfaces and abstract classes to abstract away the implementation details of a class, and by using access modifiers to control the visibility of data members and methods. These techniques allow us to focus on the behavior and public interface of a class, while hiding its implementation details from outside code.\n",
    "\n"
   ]
  },
  {
   "cell_type": "markdown",
   "id": "bc748c5c-8a47-4be7-90de-78ed036e1fd9",
   "metadata": {},
   "source": [
    "Q5. Can we create an instance of an abstract class? Explain your answer."
   ]
  },
  {
   "cell_type": "markdown",
   "id": "47fe2a49-3f38-46a2-b3da-bb53b5a548e1",
   "metadata": {},
   "source": [
    "--> No, we cannot create an instance of an abstract class in Python. An abstract class is a class that has one or more abstract methods, which are methods without any implementation. An abstract class is intended to be used as a base class for other classes to inherit from and provide concrete implementations for the abstract methods.\n",
    "\n",
    "Because an abstract class has one or more abstract methods that do not have any implementation, it cannot be instantiated directly. If you try to create an instance of an abstract class, you will get a TypeError."
   ]
  },
  {
   "cell_type": "code",
   "execution_count": null,
   "id": "4d34a478-d3c1-4ca1-a2fb-207d18997afd",
   "metadata": {},
   "outputs": [],
   "source": []
  }
 ],
 "metadata": {
  "kernelspec": {
   "display_name": "Python 3 (ipykernel)",
   "language": "python",
   "name": "python3"
  },
  "language_info": {
   "codemirror_mode": {
    "name": "ipython",
    "version": 3
   },
   "file_extension": ".py",
   "mimetype": "text/x-python",
   "name": "python",
   "nbconvert_exporter": "python",
   "pygments_lexer": "ipython3",
   "version": "3.10.8"
  }
 },
 "nbformat": 4,
 "nbformat_minor": 5
}

{
 "cells": [
  {
   "cell_type": "markdown",
   "id": "be77146d-3b61-4d4b-992b-70115d07ca04",
   "metadata": {},
   "source": [
    "Q1, Create a vehicle class with an init method having instance variables as name_of_vehicle, max_speed\n",
    "and average_of_vehicle."
   ]
  },
  {
   "cell_type": "code",
   "execution_count": 2,
   "id": "369a6c74-19bd-4f49-9baa-d8e0b3eb5e6f",
   "metadata": {},
   "outputs": [],
   "source": [
    "class vehicle:\n",
    "    \n",
    "    def __init__(self,name_of_vehicle,max_speed,average_of_vehicle):\n",
    "        \n",
    "        self.name_of_vehicle  = name_of_vehicle\n",
    "        self.max_speed = max_speed\n",
    "        self.average_of_vehicle = average_of_vehicle"
   ]
  },
  {
   "cell_type": "markdown",
   "id": "d20bfc7c-0350-49b0-992e-8be63b1ad6c5",
   "metadata": {},
   "source": [
    "Q2. Create a child class car from the vehicle class created in Que 1, which will inherit the vehicle class.\n",
    "Create a method named seating_capacity which takes capacity as an argument and returns the name of\n",
    "the vehicle and its seating capacity."
   ]
  },
  {
   "cell_type": "code",
   "execution_count": 9,
   "id": "74909153-2d64-43ec-b7fa-95dd89894fa1",
   "metadata": {},
   "outputs": [],
   "source": [
    "class car(vehicle):\n",
    "\n",
    "    \n",
    "    def seating_capacity(self,capacity):\n",
    "        \n",
    "        return self.name_of_vehicle , capacity"
   ]
  },
  {
   "cell_type": "code",
   "execution_count": 10,
   "id": "7bab79a3-2229-4ecf-af92-ae7b25b0687e",
   "metadata": {},
   "outputs": [],
   "source": [
    "obj_car = car(\"innova\",220,3)"
   ]
  },
  {
   "cell_type": "code",
   "execution_count": 11,
   "id": "fe4b12df-15a1-4648-a4ed-9ec336b66fc1",
   "metadata": {},
   "outputs": [
    {
     "data": {
      "text/plain": [
       "'innova'"
      ]
     },
     "execution_count": 11,
     "metadata": {},
     "output_type": "execute_result"
    }
   ],
   "source": [
    "obj_car.name_of_vehicle\n"
   ]
  },
  {
   "cell_type": "code",
   "execution_count": 12,
   "id": "72e15639-8792-46d9-b8a7-4717b2416280",
   "metadata": {},
   "outputs": [
    {
     "data": {
      "text/plain": [
       "('innova', 10)"
      ]
     },
     "execution_count": 12,
     "metadata": {},
     "output_type": "execute_result"
    }
   ],
   "source": [
    "obj_car.seating_capacity(10)"
   ]
  },
  {
   "cell_type": "markdown",
   "id": "f73bc925-beda-47cb-bf92-c9186879b6b7",
   "metadata": {},
   "source": [
    "Q3. What is multiple inheritance? Write a python code to demonstrate multiple inheritance."
   ]
  },
  {
   "cell_type": "markdown",
   "id": "01a411d2-4779-41d5-af5c-3eaf1a3c9dd7",
   "metadata": {},
   "source": [
    "--> Multiple inheritance is a feature in object-oriented programming where a class can inherit from more than one parent class. This allows the child class to inherit attributes and methods from all of its parent classes."
   ]
  },
  {
   "cell_type": "code",
   "execution_count": 16,
   "id": "c61b1141-b730-404b-8d2c-78e0110f71ca",
   "metadata": {},
   "outputs": [],
   "source": [
    "class Base1:\n",
    "    def method1(self):\n",
    "        print(\"This is method 1 from Base 1\")\n",
    "\n",
    "class Base2:\n",
    "    def method2(self):\n",
    "        print(\"This is method 2 from Base 2\")\n",
    "\n",
    "class Child(Base1, Base2):\n",
    "    def method3(self):\n",
    "        print(\"This is method 3 from Child\")\n",
    "\n",
    "\n"
   ]
  },
  {
   "cell_type": "code",
   "execution_count": 18,
   "id": "fa21fd0b-1805-4a95-bda9-7b974e2134fe",
   "metadata": {},
   "outputs": [],
   "source": [
    "obj = Child()"
   ]
  },
  {
   "cell_type": "code",
   "execution_count": 20,
   "id": "4ea631fc-908d-4683-9f80-17af5f34c0bb",
   "metadata": {},
   "outputs": [
    {
     "name": "stdout",
     "output_type": "stream",
     "text": [
      "This is method 1 from Base 1\n"
     ]
    }
   ],
   "source": [
    "obj.method1()\n"
   ]
  },
  {
   "cell_type": "code",
   "execution_count": 21,
   "id": "441e46d4-4897-48b2-8d81-b0b6c4a571e4",
   "metadata": {},
   "outputs": [
    {
     "name": "stdout",
     "output_type": "stream",
     "text": [
      "This is method 2 from Base 2\n"
     ]
    }
   ],
   "source": [
    "obj.method2()"
   ]
  },
  {
   "cell_type": "code",
   "execution_count": 22,
   "id": "e08ca231-2a44-4882-af19-482d1e4d916e",
   "metadata": {},
   "outputs": [
    {
     "name": "stdout",
     "output_type": "stream",
     "text": [
      "This is method 3 from Child\n"
     ]
    }
   ],
   "source": [
    "obj.method3()"
   ]
  },
  {
   "cell_type": "markdown",
   "id": "9018a705-f71b-4de7-878b-64472308423c",
   "metadata": {},
   "source": [
    "Q4. What are getter and setter in python? Create a class and create a getter and a setter method in this\n",
    "class."
   ]
  },
  {
   "cell_type": "markdown",
   "id": "9edbcded-cb22-4d75-b846-207ceb8b6c7a",
   "metadata": {},
   "source": [
    "--> In Python, getter and setter methods are used to access and modify the values of private attributes of a class.\n",
    "\n",
    "A getter is a method that gets the value of a private attribute of a class, while a setter is a method that sets the value of a private attribute of a class."
   ]
  },
  {
   "cell_type": "code",
   "execution_count": 23,
   "id": "eb782349-73e2-464c-8df6-ba7cc719e3d0",
   "metadata": {},
   "outputs": [],
   "source": [
    "class Person:\n",
    "    def __init__(self, name, age):\n",
    "        self.__name = name\n",
    "        self.__age = age\n",
    "\n",
    "    # getter method to get the name of the person\n",
    "    def get_name(self):\n",
    "        return self.__name\n",
    "\n",
    "    # setter method to set the name of the person\n",
    "    def set_name(self, name):\n",
    "        self.__name = name\n",
    "\n",
    "    # getter method to get the age of the person\n",
    "    def get_age(self):\n",
    "        return self.__age\n",
    "\n",
    "    # setter method to set the age of the person\n",
    "    def set_age(self, age):\n",
    "        self.__age = age\n",
    "\n"
   ]
  },
  {
   "cell_type": "code",
   "execution_count": 24,
   "id": "818d2cc9-7d41-4380-bc9a-ffbbb466dda2",
   "metadata": {},
   "outputs": [
    {
     "name": "stdout",
     "output_type": "stream",
     "text": [
      "John\n",
      "30\n",
      "Jane\n",
      "25\n"
     ]
    }
   ],
   "source": [
    "\n",
    "person = Person(\"John\", 30)\n",
    "\n",
    "\n",
    "print(person.get_name())  \n",
    "print(person.get_age())  \n",
    "\n",
    "# set the name and age of the person\n",
    "person.set_name(\"Jane\")\n",
    "person.set_age(25)\n",
    "\n",
    "# get the updated name and age of the person\n",
    "print(person.get_name())  # Output: \"Jane\"\n",
    "print(person.get_age())  # Output: 25\n"
   ]
  },
  {
   "cell_type": "markdown",
   "id": "15a8edbd-1856-4150-9720-4ceba6cb34ec",
   "metadata": {},
   "source": [
    "Q5.What is method overriding in python? Write a python code to demonstrate method overriding."
   ]
  },
  {
   "cell_type": "markdown",
   "id": "fb8044e5-84f5-4cbb-867f-7d06bf464902",
   "metadata": {},
   "source": [
    "--> Method overriding is a feature of object-oriented programming where a subclass can provide a different implementation of a method that is already defined in its parent class. This allows the subclass to change the behavior of the method without modifying the parent class"
   ]
  },
  {
   "cell_type": "code",
   "execution_count": 27,
   "id": "487c6298-a43e-4977-a419-7826909e6cc4",
   "metadata": {},
   "outputs": [
    {
     "name": "stdout",
     "output_type": "stream",
     "text": [
      "This is the method from Child class\n"
     ]
    }
   ],
   "source": [
    "class Base:\n",
    "    def method(self):\n",
    "        print(\"This is the method from Base class\")\n",
    "\n",
    "class Child(Base):\n",
    "    def method(self):\n",
    "        print(\"This is the method from Child class\")\n",
    "\n",
    "# create an object of the Child class\n",
    "obj = Child()\n",
    "\n",
    "\n",
    "obj.method()  \n"
   ]
  },
  {
   "cell_type": "code",
   "execution_count": null,
   "id": "07210bfd-5c84-46dd-a518-dfcd544a6b2d",
   "metadata": {},
   "outputs": [],
   "source": []
  }
 ],
 "metadata": {
  "kernelspec": {
   "display_name": "Python 3 (ipykernel)",
   "language": "python",
   "name": "python3"
  },
  "language_info": {
   "codemirror_mode": {
    "name": "ipython",
    "version": 3
   },
   "file_extension": ".py",
   "mimetype": "text/x-python",
   "name": "python",
   "nbconvert_exporter": "python",
   "pygments_lexer": "ipython3",
   "version": "3.10.8"
  }
 },
 "nbformat": 4,
 "nbformat_minor": 5
}

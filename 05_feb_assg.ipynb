{
 "cells": [
  {
   "cell_type": "markdown",
   "id": "bccf1033-627d-484b-979f-9749c5505329",
   "metadata": {},
   "source": [
    "Q1. Explain Class and Object with respect to Object-Oriented Programming. Give a suitable example."
   ]
  },
  {
   "cell_type": "markdown",
   "id": "482cd64e-b167-47cf-97dd-0333ffa6ae5e",
   "metadata": {},
   "source": [
    "--> Class and Object are key concepts in Object-Oriented Programming (OOP).\n",
    "\n",
    "A Class is a blueprint or a template for creating objects. It defines the data and behavior of a category of objects. It serves as a blueprint for multiple objects of the same type.\n",
    "\n",
    "An Object is an instance of a class. It's a real-world entity that has properties and behaviors. An object is also known as an instance of a class.\n",
    "\n",
    "For example, consider a class named \"Car\". A Car class could have properties like model, make, year, color, and methods like start, stop, drive. Each car object created from the Car class will have its own values for these properties and will be able to perform the actions defined by the methods.\n",
    "\n",
    "In other words, a class defines the characteristics of objects and objects are the individual instances of the class with their own attribute values"
   ]
  },
  {
   "cell_type": "markdown",
   "id": "f16a1ca0-f708-4937-a8e7-75de94f571b7",
   "metadata": {},
   "source": [
    "Q2. Name the four pillars of OOPs."
   ]
  },
  {
   "cell_type": "markdown",
   "id": "47845731-a408-4a33-9f16-60eea21bf0fd",
   "metadata": {},
   "source": [
    "--> The four pillars of Object-Oriented Programming (OOP) are:\n",
    "\n",
    "    1)Abstraction: Abstraction is the process of hiding the implementation details of an object and exposing only the necessary information to the users. It helps in reducing the complexity of the system and improving its readability.\n",
    "\n",
    "   2) Encapsulation: Encapsulation is the mechanism of wrapping the data and functions that manipulate the data within a single unit or object. It helps in protecting the data from the outside world and ensuring that the data is safe and secure.\n",
    "\n",
    "    3)Inheritance: Inheritance is a mechanism that allows a new class to be derived from an existing class. The derived class inherits the properties and behaviors of the existing class and can also add new properties and behaviors.\n",
    "\n",
    "   4) Polymorphism: Polymorphism is the ability of objects of different classes to respond to the same method call differently. It allows objects to be treated as objects of their class or objects of its parent class. It makes the code more flexible and reusable."
   ]
  },
  {
   "cell_type": "markdown",
   "id": "a8fa419d-2582-4d1a-9761-17683b000603",
   "metadata": {},
   "source": [
    "Q3. Explain why the __init__() function is used. Give a suitable example."
   ]
  },
  {
   "cell_type": "markdown",
   "id": "e330ec85-4acd-48a5-a282-47b7e2b63af9",
   "metadata": {},
   "source": [
    "The __init__() function is a special method in Python that is automatically executed when an object of a class is created. It is also known as the constructor method.\n",
    "\n",
    "The __init__() function is used to initialize the attributes of an object when it is created. It sets the initial values for the object's attributes and can also be used to perform other setup tasks required for the object to function properly.\n",
    "\n",
    "Here's an example to demonstrate the usage of the __init__() function:"
   ]
  },
  {
   "cell_type": "code",
   "execution_count": 1,
   "id": "2c53d810-0514-40f6-a9be-2fa1ee937e56",
   "metadata": {},
   "outputs": [
    {
     "name": "stdout",
     "output_type": "stream",
     "text": [
      "Sedan\n",
      "Toyota\n",
      "2020\n",
      "Red\n"
     ]
    }
   ],
   "source": [
    "class Car:\n",
    "    def __init__(self, model, make, year, color):\n",
    "        self.model = model\n",
    "        self.make = make\n",
    "        self.year = year\n",
    "        self.color = color\n",
    "\n",
    "my_car = Car(\"Sedan\", \"Toyota\", 2020, \"Red\")\n",
    "print(my_car.model)\n",
    "print(my_car.make)\n",
    "print(my_car.year)\n",
    "print(my_car.color)\n"
   ]
  },
  {
   "cell_type": "markdown",
   "id": "4c931f28-63ea-40e4-a912-4bd33606a62e",
   "metadata": {},
   "source": [
    "Q4. Why self is used in OOPs?"
   ]
  },
  {
   "cell_type": "markdown",
   "id": "83db9ed2-90ff-4e2f-b137-b9a0a9d717d8",
   "metadata": {},
   "source": [
    "--> The self keyword is used in Object-Oriented Programming (OOP) to refer to the instance of an object itself. It is used to access the attributes and methods of an object from within the object.\n",
    "\n",
    "In Python, when an object calls a method, the reference to the object is automatically passed to the method as its first argument. By convention, this argument is named self. When the method is called, self refers to the instance of the object on which the method is called"
   ]
  },
  {
   "cell_type": "markdown",
   "id": "37b5447f-67b0-4b79-bd7e-57c217583cc6",
   "metadata": {},
   "source": [
    "Q5. What is inheritance? Give an example for each type of inheritance."
   ]
  },
  {
   "cell_type": "markdown",
   "id": "18200d1f-7027-4798-b85e-81e54b4ad6ff",
   "metadata": {},
   "source": [
    "--> Inheritance is a mechanism in Object-Oriented Programming (OOP) that allows a new class to be derived from an existing class. The derived class inherits the properties and behaviors of the existing class and can also add new properties and behaviors.\n",
    "\n",
    "There are several types of inheritance in OOP, including"
   ]
  },
  {
   "cell_type": "code",
   "execution_count": 2,
   "id": "0bdcf12c-c79d-485c-b12a-13f066145a12",
   "metadata": {},
   "outputs": [
    {
     "name": "stdout",
     "output_type": "stream",
     "text": [
      "Bark\n"
     ]
    }
   ],
   "source": [
    "class Animal:\n",
    "    def __init__(self, name, species):\n",
    "        self.name = name\n",
    "        self.species = species\n",
    "    \n",
    "    def make_sound(self):\n",
    "        print(\"Animal sound\")\n",
    "\n",
    "class Dog(Animal):\n",
    "    def __init__(self, name, breed):\n",
    "        Animal.__init__(self, name, species=\"Dog\")\n",
    "        self.breed = breed\n",
    "    \n",
    "    def make_sound(self):\n",
    "        print(\"Bark\")\n",
    "\n",
    "dog = Dog(\"Max\", \"Labrador\")\n",
    "dog.make_sound()\n"
   ]
  },
  {
   "cell_type": "markdown",
   "id": "11d92755-8fd7-4343-a1d6-049016d33ad4",
   "metadata": {},
   "source": [
    "Multiple Inheritance: In multiple inheritance, a derived class inherits from multiple base classes. For example:"
   ]
  },
  {
   "cell_type": "code",
   "execution_count": 3,
   "id": "6c00790f-8903-4b22-8fba-fc192821d9d3",
   "metadata": {},
   "outputs": [
    {
     "name": "stdout",
     "output_type": "stream",
     "text": [
      "Click\n"
     ]
    }
   ],
   "source": [
    "class Mammal:\n",
    "    def __init__(self, name, animal_type):\n",
    "        self.name = name\n",
    "        self.animal_type = animal_type\n",
    "    \n",
    "    def make_sound(self):\n",
    "        print(\"Mammal sound\")\n",
    "\n",
    "class Fish:\n",
    "    def __init__(self, name, water_type):\n",
    "        self.name = name\n",
    "        self.water_type = water_type\n",
    "    \n",
    "    def make_sound(self):\n",
    "        print(\"Fish sound\")\n",
    "\n",
    "class Dolphin(Mammal, Fish):\n",
    "    def __init__(self, name):\n",
    "        Mammal.__init__(self, name, animal_type=\"Mammal\")\n",
    "        Fish.__init__(self, name, water_type=\"Saltwater\")\n",
    "    \n",
    "    def make_sound(self):\n",
    "        print(\"Click\")\n",
    "\n",
    "dolphin = Dolphin(\"Flipper\")\n",
    "dolphin.make_sound()\n"
   ]
  }
 ],
 "metadata": {
  "kernelspec": {
   "display_name": "Python 3 (ipykernel)",
   "language": "python",
   "name": "python3"
  },
  "language_info": {
   "codemirror_mode": {
    "name": "ipython",
    "version": 3
   },
   "file_extension": ".py",
   "mimetype": "text/x-python",
   "name": "python",
   "nbconvert_exporter": "python",
   "pygments_lexer": "ipython3",
   "version": "3.10.8"
  }
 },
 "nbformat": 4,
 "nbformat_minor": 5
}
